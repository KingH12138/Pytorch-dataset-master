{
 "cells": [
  {
   "cell_type": "markdown",
   "metadata": {},
   "source": [
    "# Dataset and Dataloader"
   ]
  },
  {
   "cell_type": "markdown",
   "metadata": {},
   "source": [
    "面向对象？"
   ]
  },
  {
   "cell_type": "markdown",
   "metadata": {},
   "source": [
    "面向对象：\n",
    "- class：类，一个比较抽象的东西，它可以代表一部分拥有共同属性(attribute)和共同行为(action)的事物。\n",
    "  Person:name,sex,age....(属性);walk,sleep,jump(行为)；\n",
    "  \n",
    "  给类的每一个属性赋值，那么这个过程其实就是：**实例化**\n",
    "\n",
    "  实例化：类 -> 对象\n",
    "- object：对象，一个比较具体的东西。（instance）"
   ]
  },
  {
   "cell_type": "markdown",
   "metadata": {},
   "source": [
    "面向对象的几大特征：继承、多态。。。\n",
    "\n",
    "Dataset运用**继承**这个特征。\n",
    "\n",
    "继承？"
   ]
  },
  {
   "cell_type": "markdown",
   "metadata": {},
   "source": [
    "Person{}\n",
    "\n",
    "YellowPeople{}\n",
    "\n",
    "person有的属性和行为，黄种人一定有？肯定的。\n",
    "\n",
    "继承：黄种人子类继承了person这个父类。\n",
    "\n",
    "\n",
    "Dataset：父类，是所有开发人员训练、测试使用的所有数据集的一个模板或者是抽象。\n",
    "\n",
    "dogvscat-dataset：子类，是一个具体的是数据集，它继承Dataset这个父类的所有方法(行为,function)和属性。"
   ]
  },
  {
   "cell_type": "markdown",
   "metadata": {},
   "source": [
    "## 如何去重写Dataset，定义自己的数据集"
   ]
  },
  {
   "cell_type": "code",
   "execution_count": 35,
   "metadata": {},
   "outputs": [],
   "source": [
    "from torch.utils.data import Dataset, DataLoader, random_split\n",
    "import pandas as pd # 用这个进行csv的生成\n",
    "import os\n",
    "import numpy as np\n",
    "from PIL import Image\n",
    "from torchvision import transforms"
   ]
  },
  {
   "cell_type": "code",
   "execution_count": 2,
   "metadata": {},
   "outputs": [
    {
     "name": "stdout",
     "output_type": "stream",
     "text": [
      "Help on class Dataset in module torch.utils.data.dataset:\n",
      "\n",
      "class Dataset(typing.Generic)\n",
      " |  Dataset(*args, **kwds)\n",
      " |  \n",
      " |  An abstract class representing a :class:`Dataset`.\n",
      " |  \n",
      " |  All datasets that represent a map from keys to data samples should subclass\n",
      " |  it. All subclasses should overwrite :meth:`__getitem__`, supporting fetching a\n",
      " |  data sample for a given key. Subclasses could also optionally overwrite\n",
      " |  :meth:`__len__`, which is expected to return the size of the dataset by many\n",
      " |  :class:`~torch.utils.data.Sampler` implementations and the default options\n",
      " |  of :class:`~torch.utils.data.DataLoader`.\n",
      " |  \n",
      " |  .. note::\n",
      " |    :class:`~torch.utils.data.DataLoader` by default constructs a index\n",
      " |    sampler that yields integral indices.  To make it work with a map-style\n",
      " |    dataset with non-integral indices/keys, a custom sampler must be provided.\n",
      " |  \n",
      " |  Method resolution order:\n",
      " |      Dataset\n",
      " |      typing.Generic\n",
      " |      builtins.object\n",
      " |  \n",
      " |  Methods defined here:\n",
      " |  \n",
      " |  __add__(self, other: 'Dataset[T_co]') -> 'ConcatDataset[T_co]'\n",
      " |  \n",
      " |  __getitem__(self, index) -> +T_co\n",
      " |  \n",
      " |  ----------------------------------------------------------------------\n",
      " |  Data descriptors defined here:\n",
      " |  \n",
      " |  __dict__\n",
      " |      dictionary for instance variables (if defined)\n",
      " |  \n",
      " |  __weakref__\n",
      " |      list of weak references to the object (if defined)\n",
      " |  \n",
      " |  ----------------------------------------------------------------------\n",
      " |  Data and other attributes defined here:\n",
      " |  \n",
      " |  __orig_bases__ = (typing.Generic[+T_co],)\n",
      " |  \n",
      " |  __parameters__ = (+T_co,)\n",
      " |  \n",
      " |  ----------------------------------------------------------------------\n",
      " |  Class methods inherited from typing.Generic:\n",
      " |  \n",
      " |  __class_getitem__(params) from builtins.type\n",
      " |  \n",
      " |  __init_subclass__(*args, **kwargs) from builtins.type\n",
      " |      This method is called when a class is subclassed.\n",
      " |      \n",
      " |      The default implementation does nothing. It may be\n",
      " |      overridden to extend subclasses.\n",
      " |  \n",
      " |  ----------------------------------------------------------------------\n",
      " |  Static methods inherited from typing.Generic:\n",
      " |  \n",
      " |  __new__(cls, *args, **kwds)\n",
      " |      Create and return a new object.  See help(type) for accurate signature.\n",
      "\n"
     ]
    }
   ],
   "source": [
    "help(Dataset)"
   ]
  },
  {
   "cell_type": "markdown",
   "metadata": {},
   "source": [
    "getitem方法返回的是数据项并非数据集"
   ]
  },
  {
   "cell_type": "markdown",
   "metadata": {},
   "source": [
    "(1)生成csv文件"
   ]
  },
  {
   "cell_type": "code",
   "execution_count": 8,
   "metadata": {},
   "outputs": [],
   "source": [
    "dataset_dir = './dogvscat'\n",
    "# ImageFolder\n",
    "classes = os.listdir(dataset_dir)\n",
    "\n",
    "info_array = [] # N,3的array\n",
    "col = ['filename','filepath','label']\n",
    "for kindname in os.listdir(dataset_dir):\n",
    "    classpath = dataset_dir + '/' + kindname\n",
    "    for filename in os.listdir(classpath):\n",
    "        filepath = classpath + '/' + filename\n",
    "        label = classes.index(kindname) # str->index int\n",
    "        info_array.append([filename,filepath,label])\n",
    "info_array = np.array(info_array)\n",
    "df = pd.DataFrame(info_array, columns=col)\n",
    "df.to_csv('./dogvscat_dataset.csv',encoding='utf-8')"
   ]
  },
  {
   "cell_type": "markdown",
   "metadata": {},
   "source": [
    "(2)重写Dataset"
   ]
  },
  {
   "cell_type": "code",
   "execution_count": 36,
   "metadata": {},
   "outputs": [],
   "source": [
    "class Dogvscat_dataset(Dataset):\n",
    "    def __init__(self,dataset_dir,csv_path, resize_shape):\n",
    "       # init方法一般要编写数据的transformer、数据的基本参数。\n",
    "       self.dataset_dir = dataset_dir\n",
    "       self.csv_path =csv_path\n",
    "       self.shape = resize_shape\n",
    "       self.df = pd.read_csv(self.csv_path,encoding='utf-8')\n",
    "       self.transformer = transforms.Compose([\n",
    "           transforms.Resize(self.shape),\n",
    "           transforms.ToTensor(),\n",
    "       ])\n",
    "    \n",
    "    def __len__(self):  # 返回数据规模\n",
    "        return len(self.df)\n",
    "    \n",
    "    def __getitem__(self,idx):  # getitem,idx=index\n",
    "        x_train = self.transformer(Image.open(self.df['filepath'][idx]))\n",
    "        y_train = self.df['label'][idx]\n",
    "        \n",
    "        return x_train,y_train\n"
   ]
  },
  {
   "cell_type": "code",
   "execution_count": 37,
   "metadata": {},
   "outputs": [
    {
     "data": {
      "text/plain": [
       "8000"
      ]
     },
     "execution_count": 37,
     "metadata": {},
     "output_type": "execute_result"
    }
   ],
   "source": [
    "data_ds = Dogvscat_dataset('./dogvscat','./dogvscat_dataset.csv',(224,224))\n",
    "\n",
    "len(data_ds)"
   ]
  },
  {
   "cell_type": "markdown",
   "metadata": {},
   "source": [
    "(3)生成dataloader"
   ]
  },
  {
   "cell_type": "code",
   "execution_count": 38,
   "metadata": {},
   "outputs": [
    {
     "name": "stdout",
     "output_type": "stream",
     "text": [
      "6400\n",
      "1600\n"
     ]
    }
   ],
   "source": [
    "num_sample = len(data_ds)\n",
    "train_percent = 0.8\n",
    "train_num = int(train_percent*num_sample)\n",
    "test_num = num_sample-train_num\n",
    "train_ds, test_ds = random_split(data_ds, [train_num,test_num])\n",
    "\n",
    "print(len(train_ds))\n",
    "print(len(test_ds))\n",
    "\n",
    "train_dl = DataLoader(train_ds, batch_size=32, shuffle=True)\n",
    "test_dl = DataLoader(test_ds, batch_size=32, shuffle=True)"
   ]
  },
  {
   "cell_type": "markdown",
   "metadata": {},
   "source": [
    "(4)迭代数据"
   ]
  },
  {
   "cell_type": "code",
   "execution_count": 41,
   "metadata": {},
   "outputs": [
    {
     "name": "stdout",
     "output_type": "stream",
     "text": [
      "tensor([[[[0.1333, 0.2078, 0.3059,  ..., 0.3686, 0.2941, 0.3882],\n",
      "          [0.1922, 0.2471, 0.2510,  ..., 0.3373, 0.3294, 0.4353],\n",
      "          [0.2510, 0.3686, 0.5176,  ..., 0.3294, 0.4235, 0.3922],\n",
      "          ...,\n",
      "          [0.4706, 0.4275, 0.3961,  ..., 0.5137, 0.5490, 0.5137],\n",
      "          [0.5804, 0.5098, 0.4314,  ..., 0.4392, 0.4353, 0.4549],\n",
      "          [0.5255, 0.5412, 0.5216,  ..., 0.5725, 0.5137, 0.4196]],\n",
      "\n",
      "         [[0.1804, 0.2431, 0.3333,  ..., 0.3373, 0.2471, 0.3412],\n",
      "          [0.2039, 0.2549, 0.2510,  ..., 0.2588, 0.2353, 0.3412],\n",
      "          [0.2157, 0.3333, 0.4706,  ..., 0.1961, 0.2627, 0.2235],\n",
      "          ...,\n",
      "          [0.3843, 0.3412, 0.3020,  ..., 0.4549, 0.4824, 0.4471],\n",
      "          [0.5020, 0.4314, 0.3451,  ..., 0.3765, 0.3608, 0.3765],\n",
      "          [0.4510, 0.4667, 0.4353,  ..., 0.5059, 0.4314, 0.3333]],\n",
      "\n",
      "         [[0.0706, 0.1373, 0.2275,  ..., 0.2078, 0.1176, 0.2078],\n",
      "          [0.1098, 0.1608, 0.1608,  ..., 0.1451, 0.1255, 0.2275],\n",
      "          [0.1412, 0.2627, 0.4000,  ..., 0.1059, 0.1804, 0.1451],\n",
      "          ...,\n",
      "          [0.3647, 0.3176, 0.2549,  ..., 0.3373, 0.3765, 0.3412],\n",
      "          [0.4824, 0.4039, 0.2941,  ..., 0.2941, 0.2902, 0.3059],\n",
      "          [0.4275, 0.4392, 0.3843,  ..., 0.4392, 0.3843, 0.2863]]],\n",
      "\n",
      "\n",
      "        [[[0.3882, 0.4157, 0.4314,  ..., 0.5216, 0.4902, 0.5255],\n",
      "          [0.3882, 0.4000, 0.4314,  ..., 0.4588, 0.4745, 0.5412],\n",
      "          [0.3490, 0.3608, 0.3922,  ..., 0.4706, 0.5020, 0.5529],\n",
      "          ...,\n",
      "          [0.5020, 0.4863, 0.4549,  ..., 0.3294, 0.3451, 0.3255],\n",
      "          [0.4980, 0.4824, 0.4745,  ..., 0.4157, 0.3608, 0.3882],\n",
      "          [0.4824, 0.4706, 0.4902,  ..., 0.4471, 0.3294, 0.3490]],\n",
      "\n",
      "         [[0.4000, 0.4235, 0.4314,  ..., 0.5412, 0.5216, 0.5608],\n",
      "          [0.4000, 0.4078, 0.4314,  ..., 0.4824, 0.5059, 0.5765],\n",
      "          [0.3608, 0.3647, 0.3922,  ..., 0.4941, 0.5333, 0.5882],\n",
      "          ...,\n",
      "          [0.5059, 0.4902, 0.4588,  ..., 0.3412, 0.3529, 0.3373],\n",
      "          [0.5020, 0.4863, 0.4784,  ..., 0.4314, 0.3765, 0.4039],\n",
      "          [0.4863, 0.4745, 0.4941,  ..., 0.4667, 0.3490, 0.3647]],\n",
      "\n",
      "         [[0.4275, 0.4431, 0.4510,  ..., 0.5569, 0.5333, 0.5725],\n",
      "          [0.4275, 0.4275, 0.4510,  ..., 0.4980, 0.5176, 0.5882],\n",
      "          [0.3843, 0.3843, 0.4078,  ..., 0.5098, 0.5451, 0.5961],\n",
      "          ...,\n",
      "          [0.5255, 0.5098, 0.4784,  ..., 0.3608, 0.3725, 0.3529],\n",
      "          [0.5216, 0.5059, 0.4980,  ..., 0.4510, 0.4000, 0.4275],\n",
      "          [0.5059, 0.4941, 0.5137,  ..., 0.4824, 0.3725, 0.3961]]],\n",
      "\n",
      "\n",
      "        [[[0.1059, 0.1098, 0.1098,  ..., 0.0275, 0.1373, 0.2667],\n",
      "          [0.1098, 0.1020, 0.1216,  ..., 0.0627, 0.2431, 0.1804],\n",
      "          [0.1255, 0.1255, 0.1373,  ..., 0.2078, 0.1843, 0.0627],\n",
      "          ...,\n",
      "          [0.3137, 0.3098, 0.3176,  ..., 0.5176, 0.5176, 0.5098],\n",
      "          [0.3412, 0.3412, 0.3412,  ..., 0.7765, 0.7882, 0.8039],\n",
      "          [0.3686, 0.3569, 0.3608,  ..., 0.7882, 0.7961, 0.8353]],\n",
      "\n",
      "         [[0.1255, 0.1294, 0.1294,  ..., 0.0118, 0.0902, 0.2196],\n",
      "          [0.1255, 0.1176, 0.1373,  ..., 0.0471, 0.2039, 0.1412],\n",
      "          [0.1333, 0.1333, 0.1451,  ..., 0.1922, 0.1569, 0.0392],\n",
      "          ...,\n",
      "          [0.2392, 0.2353, 0.2431,  ..., 0.4667, 0.4627, 0.4510],\n",
      "          [0.2667, 0.2706, 0.2706,  ..., 0.6588, 0.6667, 0.6824],\n",
      "          [0.3020, 0.2902, 0.2941,  ..., 0.6431, 0.6471, 0.6863]],\n",
      "\n",
      "         [[0.1020, 0.1059, 0.1059,  ..., 0.0157, 0.0824, 0.2078],\n",
      "          [0.1020, 0.0941, 0.1137,  ..., 0.0471, 0.1922, 0.1294],\n",
      "          [0.1137, 0.1137, 0.1255,  ..., 0.1843, 0.1451, 0.0235],\n",
      "          ...,\n",
      "          [0.1373, 0.1333, 0.1412,  ..., 0.2902, 0.2863, 0.2706],\n",
      "          [0.1569, 0.1569, 0.1608,  ..., 0.4784, 0.4745, 0.4902],\n",
      "          [0.1922, 0.1804, 0.1843,  ..., 0.4706, 0.4627, 0.5020]]],\n",
      "\n",
      "\n",
      "        ...,\n",
      "\n",
      "\n",
      "        [[[0.3647, 0.3608, 0.3725,  ..., 0.2353, 0.2235, 0.2235],\n",
      "          [0.3608, 0.3725, 0.3804,  ..., 0.2157, 0.2118, 0.2235],\n",
      "          [0.3725, 0.3765, 0.3765,  ..., 0.2157, 0.2157, 0.2314],\n",
      "          ...,\n",
      "          [0.5922, 0.5765, 0.5647,  ..., 0.6078, 0.6235, 0.6471],\n",
      "          [0.5725, 0.5804, 0.5922,  ..., 0.5922, 0.6157, 0.6471],\n",
      "          [0.5686, 0.5765, 0.5804,  ..., 0.5882, 0.6000, 0.6118]],\n",
      "\n",
      "         [[0.2745, 0.2706, 0.2824,  ..., 0.2431, 0.2314, 0.2314],\n",
      "          [0.2706, 0.2824, 0.2902,  ..., 0.2235, 0.2196, 0.2314],\n",
      "          [0.2824, 0.2863, 0.2863,  ..., 0.2235, 0.2235, 0.2392],\n",
      "          ...,\n",
      "          [0.4784, 0.4627, 0.4510,  ..., 0.6235, 0.6353, 0.6588],\n",
      "          [0.4588, 0.4667, 0.4784,  ..., 0.6118, 0.6314, 0.6588],\n",
      "          [0.4510, 0.4627, 0.4745,  ..., 0.6039, 0.6118, 0.6196]],\n",
      "\n",
      "         [[0.1490, 0.1451, 0.1569,  ..., 0.2235, 0.2118, 0.2118],\n",
      "          [0.1451, 0.1569, 0.1647,  ..., 0.2039, 0.2000, 0.2118],\n",
      "          [0.1569, 0.1608, 0.1608,  ..., 0.2039, 0.2039, 0.2196],\n",
      "          ...,\n",
      "          [0.3059, 0.2902, 0.2784,  ..., 0.4745, 0.5059, 0.5412],\n",
      "          [0.2863, 0.2941, 0.3059,  ..., 0.4627, 0.5020, 0.5412],\n",
      "          [0.2745, 0.2863, 0.2980,  ..., 0.4627, 0.4902, 0.5137]]],\n",
      "\n",
      "\n",
      "        [[[0.7020, 0.5451, 0.3686,  ..., 0.6431, 0.3765, 0.4078],\n",
      "          [0.7020, 0.5490, 0.3725,  ..., 0.6392, 0.3686, 0.4235],\n",
      "          [0.6980, 0.5490, 0.3686,  ..., 0.6353, 0.3804, 0.4588],\n",
      "          ...,\n",
      "          [0.4667, 0.4431, 0.3843,  ..., 0.3569, 0.3255, 0.2902],\n",
      "          [0.3961, 0.3765, 0.3373,  ..., 0.3608, 0.3373, 0.3020],\n",
      "          [0.3725, 0.3451, 0.3059,  ..., 0.3608, 0.3451, 0.3137]],\n",
      "\n",
      "         [[0.7529, 0.5882, 0.4078,  ..., 0.7176, 0.4745, 0.5137],\n",
      "          [0.7490, 0.5922, 0.4118,  ..., 0.7098, 0.4627, 0.5294],\n",
      "          [0.7490, 0.5922, 0.4118,  ..., 0.7059, 0.4706, 0.5569],\n",
      "          ...,\n",
      "          [0.3137, 0.3020, 0.2745,  ..., 0.3843, 0.3569, 0.3294],\n",
      "          [0.2549, 0.2510, 0.2431,  ..., 0.3882, 0.3725, 0.3451],\n",
      "          [0.2471, 0.2353, 0.2235,  ..., 0.3922, 0.3882, 0.3608]],\n",
      "\n",
      "         [[0.7176, 0.5569, 0.3882,  ..., 0.7216, 0.4627, 0.4941],\n",
      "          [0.7137, 0.5608, 0.3922,  ..., 0.7176, 0.4510, 0.5098],\n",
      "          [0.7137, 0.5647, 0.3922,  ..., 0.7098, 0.4549, 0.5333],\n",
      "          ...,\n",
      "          [0.1255, 0.1255, 0.1176,  ..., 0.3569, 0.3373, 0.3059],\n",
      "          [0.0980, 0.1098, 0.1216,  ..., 0.3608, 0.3490, 0.3216],\n",
      "          [0.1137, 0.1216, 0.1255,  ..., 0.3647, 0.3647, 0.3373]]],\n",
      "\n",
      "\n",
      "        [[[0.1333, 0.1294, 0.1294,  ..., 0.3686, 0.3412, 0.3490],\n",
      "          [0.1333, 0.1294, 0.1294,  ..., 0.3725, 0.3412, 0.3412],\n",
      "          [0.1333, 0.1294, 0.1333,  ..., 0.3725, 0.3412, 0.3373],\n",
      "          ...,\n",
      "          [0.1922, 0.1961, 0.1961,  ..., 0.2941, 0.3529, 0.3529],\n",
      "          [0.1882, 0.1922, 0.1961,  ..., 0.2941, 0.3529, 0.3529],\n",
      "          [0.1882, 0.1922, 0.1922,  ..., 0.2941, 0.3529, 0.3529]],\n",
      "\n",
      "         [[0.3333, 0.3294, 0.3294,  ..., 0.6941, 0.6667, 0.6784],\n",
      "          [0.3333, 0.3294, 0.3294,  ..., 0.6980, 0.6667, 0.6706],\n",
      "          [0.3333, 0.3294, 0.3333,  ..., 0.6980, 0.6667, 0.6667],\n",
      "          ...,\n",
      "          [0.2627, 0.2667, 0.2745,  ..., 0.6235, 0.6824, 0.6824],\n",
      "          [0.2588, 0.2627, 0.2745,  ..., 0.6235, 0.6824, 0.6824],\n",
      "          [0.2588, 0.2627, 0.2706,  ..., 0.6235, 0.6824, 0.6824]],\n",
      "\n",
      "         [[0.1098, 0.1059, 0.1059,  ..., 0.3451, 0.3020, 0.3020],\n",
      "          [0.1098, 0.1059, 0.1059,  ..., 0.3490, 0.3020, 0.2941],\n",
      "          [0.1098, 0.1059, 0.1098,  ..., 0.3490, 0.3020, 0.2902],\n",
      "          ...,\n",
      "          [0.1765, 0.1804, 0.1765,  ..., 0.2471, 0.3059, 0.3059],\n",
      "          [0.1725, 0.1765, 0.1765,  ..., 0.2471, 0.3059, 0.3059],\n",
      "          [0.1725, 0.1765, 0.1725,  ..., 0.2471, 0.3059, 0.3059]]]])\n",
      "tensor([0, 0, 0, 0, 0, 0, 0, 0, 1, 0, 0, 0, 1, 1, 1, 0, 0, 0, 1, 1, 0, 0, 0, 0,\n",
      "        0, 0, 1, 1, 0, 0, 0, 0])\n"
     ]
    }
   ],
   "source": [
    "for x_train,y_train in iter(train_dl):\n",
    "    print(x_train)\n",
    "    print(y_train)\n",
    "    break"
   ]
  },
  {
   "cell_type": "markdown",
   "metadata": {},
   "source": [
    "dataset才是真正地编写成功了。"
   ]
  }
 ],
 "metadata": {
  "interpreter": {
   "hash": "3006fcc562a5abfafcc4b1140ff0758d6b0b7eb77947b7246d10c87448db5f82"
  },
  "kernelspec": {
   "display_name": "Python 3.8.12 ('Pytorch')",
   "language": "python",
   "name": "python3"
  },
  "language_info": {
   "codemirror_mode": {
    "name": "ipython",
    "version": 3
   },
   "file_extension": ".py",
   "mimetype": "text/x-python",
   "name": "python",
   "nbconvert_exporter": "python",
   "pygments_lexer": "ipython3",
   "version": "3.8.12"
  },
  "orig_nbformat": 4
 },
 "nbformat": 4,
 "nbformat_minor": 2
}
